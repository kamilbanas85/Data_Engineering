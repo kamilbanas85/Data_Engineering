{
 "cells": [
  {
   "cell_type": "code",
   "execution_count": 0,
   "metadata": {
    "application/vnd.databricks.v1+cell": {
     "cellMetadata": {
      "byteLimit": 2048000,
      "rowLimit": 10000
     },
     "inputWidgets": {},
     "nuid": "df5d77dc-8af4-48a6-8ec3-43afba881a22",
     "showTitle": false,
     "title": ""
    }
   },
   "outputs": [
    {
     "output_type": "display_data",
     "data": {
      "application/vnd.databricks.v1+bamboolib_hint": "{\"pd.DataFrames\": [], \"version\": \"0.0.1\"}",
      "text/plain": []
     },
     "metadata": {},
     "output_type": "display_data"
    }
   ],
   "source": [
    "from selenium import webdriver \n",
    "from selenium.webdriver import Chrome \n",
    "from selenium.webdriver.chrome.service import Service \n",
    "from selenium.webdriver.common.by import By \n",
    "from webdriver_manager.chrome import ChromeDriverManager\n",
    "from selenium.webdriver.support.wait import WebDriverWait\n",
    "from selenium.webdriver.support import expected_conditions as EC\n",
    "from selenium.webdriver.chrome.options import Options\n",
    "from selenium.common.exceptions import ElementClickInterceptedException\n",
    "\n",
    "import os\n",
    "import pandas as pd\n",
    "\n",
    "import time"
   ]
  },
  {
   "cell_type": "code",
   "execution_count": 0,
   "metadata": {
    "application/vnd.databricks.v1+cell": {
     "cellMetadata": {
      "byteLimit": 2048000,
      "rowLimit": 10000
     },
     "inputWidgets": {},
     "nuid": "909b3480-9e4b-457c-943c-17b7d3272624",
     "showTitle": false,
     "title": ""
    }
   },
   "outputs": [],
   "source": [
    "#############################################################################\n",
    "#############################################################################\n",
    "#### extract, and install chrom driver and chrome last stale version"
   ]
  },
  {
   "cell_type": "code",
   "execution_count": 0,
   "metadata": {
    "application/vnd.databricks.v1+cell": {
     "cellMetadata": {
      "byteLimit": 2048000,
      "rowLimit": 10000
     },
     "inputWidgets": {},
     "nuid": "41eb85c7-c803-4a67-aebb-71d0eef113ba",
     "showTitle": false,
     "title": ""
    }
   },
   "outputs": [],
   "source": [
    "import json\n",
    "import requests\n",
    "\n",
    "url_chrom_for_testing_json_endpoint = 'https://googlechromelabs.github.io/chrome-for-testing/last-known-good-versions-with-downloads.json'\n",
    "\n",
    "result = requests.get(url_chrom_for_testing_json_endpoint)\n",
    "chrome_for_testing_data  = result.json()"
   ]
  },
  {
   "cell_type": "code",
   "execution_count": 0,
   "metadata": {
    "application/vnd.databricks.v1+cell": {
     "cellMetadata": {
      "byteLimit": 2048000,
      "rowLimit": 10000
     },
     "inputWidgets": {},
     "nuid": "fc0da14d-a114-4383-b82e-8f469ea9918c",
     "showTitle": false,
     "title": ""
    }
   },
   "outputs": [
    {
     "output_type": "stream",
     "name": "stdout",
     "output_type": "stream",
     "text": [
      "120.0.6099.62\n"
     ]
    }
   ],
   "source": [
    "### extract version nr, and urls\n",
    "current_stable_version = chrome_for_testing_data['channels']['Stable']['version']\n",
    "\n",
    "chrome_driver_url = pd.json_normalize(chrome_for_testing_data['channels']['Stable']['downloads']['chromedriver']).query('platform == \"linux64\"')['url'].squeeze()\n",
    "chrome_url = pd.json_normalize(chrome_for_testing_data['channels']['Stable']['downloads']['chrome']).query('platform == \"linux64\"')['url'].squeeze()\n",
    "\n",
    "print(current_stable_version)"
   ]
  },
  {
   "cell_type": "code",
   "execution_count": 0,
   "metadata": {
    "application/vnd.databricks.v1+cell": {
     "cellMetadata": {
      "byteLimit": 2048000,
      "rowLimit": 10000
     },
     "inputWidgets": {},
     "nuid": "9f0986bc-e88f-4ba2-b9d6-89d4c88a2195",
     "showTitle": false,
     "title": ""
    }
   },
   "outputs": [],
   "source": [
    "# set up variable to use later in %sh commands\n",
    "os.environ['chrome_driver_url'] = chrome_driver_url\n",
    "os.environ['chrome_url'] = chrome_url"
   ]
  },
  {
   "cell_type": "code",
   "execution_count": 0,
   "metadata": {
    "application/vnd.databricks.v1+cell": {
     "cellMetadata": {
      "byteLimit": 2048000,
      "rowLimit": 10000
     },
     "inputWidgets": {},
     "nuid": "0b8a3ae3-2add-4a99-b7bc-0eef2edc5302",
     "showTitle": false,
     "title": ""
    }
   },
   "outputs": [],
   "source": [
    "# remove if exist /tmp/chromedriver_linux64.zip and all files in a direcotry '/tmp/my_chromedriver/ if exist"
   ]
  },
  {
   "cell_type": "code",
   "execution_count": 0,
   "metadata": {
    "application/vnd.databricks.v1+cell": {
     "cellMetadata": {
      "byteLimit": 2048000,
      "rowLimit": 10000
     },
     "inputWidgets": {},
     "nuid": "0bdc3871-046e-4d49-8436-f6dd9877fb22",
     "showTitle": false,
     "title": ""
    }
   },
   "outputs": [
    {
     "output_type": "stream",
     "name": "stderr",
     "output_type": "stream",
     "text": [
      "rm: cannot remove '/tmp/chromedriver_linux64.zip': No such file or directory\nrm: cannot remove '/tmp/my_chromedriver/': No such file or directory\n"
     ]
    }
   ],
   "source": [
    "%sh\n",
    "rm /tmp/chromedriver_linux64.zip\n",
    "rm -r /tmp/my_chromedriver/"
   ]
  },
  {
   "cell_type": "code",
   "execution_count": 0,
   "metadata": {
    "application/vnd.databricks.v1+cell": {
     "cellMetadata": {
      "byteLimit": 2048000,
      "rowLimit": 10000
     },
     "inputWidgets": {},
     "nuid": "58cc6ff7-646e-4bd5-998d-1d13db4e6cc8",
     "showTitle": false,
     "title": ""
    }
   },
   "outputs": [],
   "source": [
    "## Using shell command download and save the chromedriver in /tmp/ as  /tmp/chromedriver_linux64.zip"
   ]
  },
  {
   "cell_type": "code",
   "execution_count": 0,
   "metadata": {
    "application/vnd.databricks.v1+cell": {
     "cellMetadata": {
      "byteLimit": 2048000,
      "rowLimit": 10000
     },
     "inputWidgets": {},
     "nuid": "f4be077d-f878-43c4-bd75-9303d48e2473",
     "showTitle": false,
     "title": ""
    }
   },
   "outputs": [
    {
     "output_type": "stream",
     "name": "stderr",
     "output_type": "stream",
     "text": [
      "WARNING: timestamping does nothing in combination with -O. See the manual\nfor details.\n\n--2023-12-06 14:59:28--  https://edgedl.me.gvt1.com/edgedl/chrome/chrome-for-testing/120.0.6099.62/linux64/chromedriver-linux64.zip\nResolving edgedl.me.gvt1.com (edgedl.me.gvt1.com)... 34.104.35.123, 2600:1900:4110:86f::\nConnecting to edgedl.me.gvt1.com (edgedl.me.gvt1.com)|34.104.35.123|:443... connected.\nHTTP request sent, awaiting response... 200 OK\nLength: 8574825 (8.2M) [application/octet-stream]\nSaving to: ‘/tmp/chromedriver_linux64.zip’\n\n     0K .......... .......... .......... .......... ..........  0% 8.59M 1s\n    50K .......... .......... .......... .......... ..........  1% 32.5M 1s\n   100K .......... .......... .......... .......... ..........  1% 41.9M 0s\n   150K .......... .......... .......... .......... ..........  2% 18.8M 0s\n   200K .......... .......... .......... .......... ..........  2% 16.4M 0s\n   250K .......... .......... .......... .......... ..........  3% 18.2M 0s\n   300K .......... .......... .......... .......... ..........  4% 19.7M 0s\n   350K .......... .......... .......... .......... ..........  4%  221M 0s\n   400K .......... .......... .......... .......... ..........  5%  304M 0s\n   450K .......... .......... .......... .......... ..........  5% 17.2M 0s\n   500K .......... .......... .......... .......... ..........  6%  293M 0s\n   550K .......... .......... .......... .......... ..........  7%  274M 0s\n   600K .......... .......... .......... .......... ..........  7% 20.6M 0s\n   650K .......... .......... .......... .......... ..........  8%  256M 0s\n   700K .......... .......... .......... .......... ..........  8%  232M 0s\n   750K .......... .......... .......... .......... ..........  9%  251M 0s\n   800K .......... .......... .......... .......... .......... 10%  285M 0s\n   850K .......... .......... .......... .......... .......... 10% 23.7M 0s\n   900K .......... .......... .......... .......... .......... 11%  297M 0s\n   950K .......... .......... .......... .......... .......... 11% 48.5M 0s\n  1000K .......... .......... .......... .......... .......... 12% 52.1M 0s\n  1050K .......... .......... .......... .......... .......... 13%  256M 0s\n  1100K .......... .......... .......... .......... .......... 13% 60.3M 0s\n  1150K .......... .......... .......... .......... .......... 14%  212M 0s\n  1200K .......... .......... .......... .......... .......... 14% 55.9M 0s\n  1250K .......... .......... .......... .......... .......... 15%  212M 0s\n  1300K .......... .......... .......... .......... .......... 16% 41.2M 0s\n  1350K .......... .......... .......... .......... .......... 16%  121M 0s\n  1400K .......... .......... .......... .......... .......... 17%  300M 0s\n  1450K .......... .......... .......... .......... .......... 17%  309M 0s\n  1500K .......... .......... .......... .......... .......... 18%  215M 0s\n  1550K .......... .......... .......... .......... .......... 19% 28.0M 0s\n  1600K .......... .......... .......... .......... .......... 19% 83.3M 0s\n  1650K .......... .......... .......... .......... .......... 20%  243M 0s\n  1700K .......... .......... .......... .......... .......... 20%  268M 0s\n  1750K .......... .......... .......... .......... .......... 21%  221M 0s\n  1800K .......... .......... .......... .......... .......... 22%  266M 0s\n  1850K .......... .......... .......... .......... .......... 22% 27.1M 0s\n  1900K .......... .......... .......... .......... .......... 23%  238M 0s\n  1950K .......... .......... .......... .......... .......... 23%  190M 0s\n  2000K .......... .......... .......... .......... .......... 24% 33.4M 0s\n  2050K .......... .......... .......... .......... .......... 25%  248M 0s\n  2100K .......... .......... .......... .......... .......... 25%  257M 0s\n  2150K .......... .......... .......... .......... .......... 26%  267M 0s\n  2200K .......... .......... .......... .......... .......... 26%  241M 0s\n  2250K .......... .......... .......... .......... .......... 27% 25.2M 0s\n  2300K .......... .......... .......... .......... .......... 28%  250M 0s\n  2350K .......... .......... .......... .......... .......... 28% 35.5M 0s\n  2400K .......... .......... .......... .......... .......... 29%  247M 0s\n  2450K .......... .......... .......... .......... .......... 29%  292M 0s\n  2500K .......... .......... .......... .......... .......... 30%  219M 0s\n  2550K .......... .......... .......... .......... .......... 31%  275M 0s\n  2600K .......... .......... .......... .......... .......... 31% 8.70M 0s\n  2650K .......... .......... .......... .......... .......... 32%  298M 0s\n  2700K .......... .......... .......... .......... .......... 32%  308M 0s\n  2750K .......... .......... .......... .......... .......... 33% 32.8M 0s\n  2800K .......... .......... .......... .......... .......... 34%  294M 0s\n  2850K .......... .......... .......... .......... .......... 34%  309M 0s\n  2900K .......... .......... .......... .......... .......... 35%  310M 0s\n  2950K .......... .......... .......... .......... .......... 35%  279M 0s\n  3000K .......... .......... .......... .......... .......... 36% 27.1M 0s\n  3050K .......... .......... .......... .......... .......... 37%  294M 0s\n  3100K .......... .......... .......... .......... .......... 37%  304M 0s\n  3150K .......... .......... .......... .......... .......... 38% 51.4M 0s\n  3200K .......... .......... .......... .......... .......... 38%  300M 0s\n  3250K .......... .......... .......... .......... .......... 39% 51.2M 0s\n  3300K .......... .......... .......... .......... .......... 40% 72.0M 0s\n  3350K .......... .......... .......... .......... .......... 40%  244M 0s\n  3400K .......... .......... .......... .......... .......... 41%  311M 0s\n  3450K .......... .......... .......... .......... .......... 41%  310M 0s\n  3500K .......... .......... .......... .......... .......... 42% 35.7M 0s\n  3550K .......... .......... .......... .......... .......... 42%  240M 0s\n  3600K .......... .......... .......... .......... .......... 43%  307M 0s\n  3650K .......... .......... .......... .......... .......... 44%  311M 0s\n  3700K .......... .......... .......... .......... .......... 44%  308M 0s\n  3750K .......... .......... .......... .......... .......... 45% 26.6M 0s\n  3800K .......... .......... .......... .......... .......... 45%  268M 0s\n  3850K .......... .......... .......... .......... .......... 46%  305M 0s\n  3900K .......... .......... .......... .......... .......... 47% 45.6M 0s\n  3950K .......... .......... .......... .......... .......... 47%  244M 0s\n  4000K .......... .......... .......... .......... .......... 48%  305M 0s\n  4050K .......... .......... .......... .......... .......... 48% 3.37M 0s\n  4100K .......... .......... .......... .......... .......... 49%  145M 0s\n  4150K .......... .......... .......... .......... .......... 50%  193M 0s\n  4200K .......... .......... .......... .......... .......... 50%  207M 0s\n  4250K .......... .......... .......... .......... .......... 51% 58.0M 0s\n  4300K .......... .......... .......... .......... .......... 51%  297M 0s\n  4350K .......... .......... .......... .......... .......... 52%  179M 0s\n  4400K .......... .......... .......... .......... .......... 53%  205M 0s\n  4450K .......... .......... .......... .......... .......... 53%  248M 0s\n  4500K .......... .......... .......... .......... .......... 54%  189M 0s\n  4550K .......... .......... .......... .......... .......... 54%  100M 0s\n  4600K .......... .......... .......... .......... .......... 55%  305M 0s\n  4650K .......... .......... .......... .......... .......... 56%  123M 0s\n  4700K .......... .......... .......... .......... .......... 56%  205M 0s\n  4750K .......... .......... .......... .......... .......... 57%  123M 0s\n  4800K .......... .......... .......... .......... .......... 57%  132M 0s\n  4850K .......... .......... .......... .......... .......... 58%  109M 0s\n  4900K .......... .......... .......... .......... .......... 59%  285M 0s\n  4950K .......... .......... .......... .......... .......... 59%  190M 0s\n  5000K .......... .......... .......... .......... .......... 60%  145M 0s\n  5050K .......... .......... .......... .......... .......... 60%  114M 0s\n  5100K .......... .......... .......... .......... .......... 61%  299M 0s\n  5150K .......... .......... .......... .......... .......... 62%  112M 0s\n  5200K .......... .......... .......... .......... .......... 62%  119M 0s\n  5250K .......... .......... .......... .......... .......... 63%  263M 0s\n  5300K .......... .......... .......... .......... .......... 63% 33.3M 0s\n  5350K .......... .......... .......... .......... .......... 64%  232M 0s\n  5400K .......... .......... .......... .......... .......... 65%  219M 0s\n  5450K .......... .......... .......... .......... .......... 65%  305M 0s\n  5500K .......... .......... .......... .......... .......... 66% 26.6M 0s\n  5550K .......... .......... .......... .......... .......... 66%  175M 0s\n  5600K .......... .......... .......... .......... .......... 67%  258M 0s\n  5650K .......... .......... .......... .......... .......... 68% 40.0M 0s\n  5700K .......... .......... .......... .......... .......... 68%  128M 0s\n  5750K .......... .......... .......... .......... .......... 69%  276M 0s\n  5800K .......... .......... .......... .......... .......... 69%  307M 0s\n  5850K .......... .......... .......... .......... .......... 70%  310M 0s\n  5900K .......... .......... .......... .......... .......... 71%  309M 0s\n  5950K .......... .......... .......... .......... .......... 71% 27.2M 0s\n  6000K .......... .......... .......... .......... .......... 72%  301M 0s\n  6050K .......... .......... .......... .......... .......... 72%  301M 0s\n  6100K .......... .......... .......... .......... .......... 73% 1.94M 0s\n  6150K .......... .......... .......... .......... .......... 74%  157M 0s\n  6200K .......... .......... .......... .......... .......... 74%  173M 0s\n  6250K .......... .......... .......... .......... .......... 75%  191M 0s\n  6300K .......... .......... .......... .......... .......... 75% 83.7M 0s\n  6350K .......... .......... .......... .......... .......... 76%  240M 0s\n  6400K .......... .......... .......... .......... .......... 77%  174M 0s\n  6450K .......... .......... .......... .......... .......... 77%  173M 0s\n  6500K .......... .......... .......... .......... .......... 78%  292M 0s\n  6550K .......... .......... .......... .......... .......... 78%  157M 0s\n  6600K .......... .......... .......... .......... .......... 79%  128M 0s\n  6650K .......... .......... .......... .......... .......... 80% 76.3M 0s\n  6700K .......... .......... .......... .......... .......... 80%  202M 0s\n  6750K .......... .......... .......... .......... .......... 81%  244M 0s\n  6800K .......... .......... .......... .......... .......... 81%  139M 0s\n  6850K .......... .......... .......... .......... .......... 82%  181M 0s\n  6900K .......... .......... .......... .......... .......... 82%  113M 0s\n  6950K .......... .......... .......... .......... .......... 83%  139M 0s\n  7000K .......... .......... .......... .......... .......... 84%  300M 0s\n  7050K .......... .......... .......... .......... .......... 84%  134M 0s\n  7100K .......... .......... .......... .......... .......... 85%  153M 0s\n  7150K .......... .......... .......... .......... .......... 85%  161M 0s\n  7200K .......... .......... .......... .......... .......... 86% 98.9M 0s\n  7250K .......... .......... .......... .......... .......... 87%  257M 0s\n  7300K .......... .......... .......... .......... .......... 87%  235M 0s\n  7350K .......... .......... .......... .......... .......... 88%  167M 0s\n  7400K .......... .......... .......... .......... .......... 88%  131M 0s\n  7450K .......... .......... .......... .......... .......... 89%  122M 0s\n  7500K .......... .......... .......... .......... .......... 90%  204M 0s\n  7550K .......... .......... .......... .......... .......... 90%  222M 0s\n  7600K .......... .......... .......... .......... .......... 91%  116M 0s\n  7650K .......... .......... .......... .......... .......... 91%  183M 0s\n  7700K .......... .......... .......... .......... .......... 92%  182M 0s\n  7750K .......... .......... .......... .......... .......... 93%  228M 0s\n  7800K .......... .......... .......... .......... .......... 93% 95.6M 0s\n  7850K .......... .......... .......... .......... .......... 94%  203M 0s\n  7900K .......... .......... .......... .......... .......... 94%  214M 0s\n  7950K .......... .......... .......... .......... .......... 95% 85.9M 0s\n  8000K .......... .......... .......... .......... .......... 96%  232M 0s\n  8050K .......... .......... .......... .......... .......... 96%  247M 0s\n  8100K .......... .......... .......... .......... .......... 97%  129M 0s\n  8150K .......... .......... .......... .......... .......... 97%  647K 0s\n  8200K .......... .......... .......... .......... .......... 98% 69.8M 0s\n  8250K .......... .......... .......... .......... .......... 99%  206M 0s\n  8300K .......... .......... .......... .......... .......... 99%  306M 0s\n  8350K .......... .......... ...                             100%  210M=0.2s\n\n2023-12-06 14:59:29 (38.4 MB/s) - ‘/tmp/chromedriver_linux64.zip’ saved [8574825/8574825]\n\n"
     ]
    }
   ],
   "source": [
    "%sh\n",
    "wget  -N $chrome_driver_url -O /tmp/chromedriver_linux64.zip"
   ]
  },
  {
   "cell_type": "code",
   "execution_count": 0,
   "metadata": {
    "application/vnd.databricks.v1+cell": {
     "cellMetadata": {
      "byteLimit": 2048000,
      "rowLimit": 10000
     },
     "inputWidgets": {},
     "nuid": "e3893d61-6ccd-4f03-8cb3-abb211456023",
     "showTitle": false,
     "title": ""
    }
   },
   "outputs": [],
   "source": [
    "## Unzip the file from   /tmp/   into folder     /tmp/my_chromedriver/"
   ]
  },
  {
   "cell_type": "code",
   "execution_count": 0,
   "metadata": {
    "application/vnd.databricks.v1+cell": {
     "cellMetadata": {
      "byteLimit": 2048000,
      "rowLimit": 10000
     },
     "inputWidgets": {},
     "nuid": "cabaff4a-48a1-4434-9a21-2627442d94b2",
     "showTitle": false,
     "title": ""
    }
   },
   "outputs": [
    {
     "output_type": "stream",
     "name": "stdout",
     "output_type": "stream",
     "text": [
      "Archive:  /tmp/chromedriver_linux64.zip\n  inflating: /tmp/my_chromedriver/chromedriver-linux64/LICENSE.chromedriver  \n  inflating: /tmp/my_chromedriver/chromedriver-linux64/chromedriver  \n"
     ]
    }
   ],
   "source": [
    "%sh\n",
    "unzip /tmp/chromedriver_linux64.zip -d /tmp/my_chromedriver/"
   ]
  },
  {
   "cell_type": "code",
   "execution_count": 0,
   "metadata": {
    "application/vnd.databricks.v1+cell": {
     "cellMetadata": {
      "byteLimit": 2048000,
      "rowLimit": 10000
     },
     "inputWidgets": {},
     "nuid": "6f9d7a77-8e00-4d49-9f1a-7ed7a0b0f9f7",
     "showTitle": false,
     "title": ""
    }
   },
   "outputs": [],
   "source": [
    "##  download 'chrome' last stable version"
   ]
  },
  {
   "cell_type": "code",
   "execution_count": 0,
   "metadata": {
    "application/vnd.databricks.v1+cell": {
     "cellMetadata": {
      "byteLimit": 2048000,
      "rowLimit": 10000
     },
     "inputWidgets": {},
     "nuid": "703a4355-5afb-4325-9d2d-179d1fe32a53",
     "showTitle": false,
     "title": ""
    }
   },
   "outputs": [
    {
     "output_type": "stream",
     "name": "stderr",
     "output_type": "stream",
     "text": [
      "Warning: apt-key is deprecated. Manage keyring files in trusted.gpg.d instead (see apt-key(8)).\n"
     ]
    },
    {
     "output_type": "stream",
     "name": "stdout",
     "output_type": "stream",
     "text": [
      "OK\nGet:1 https://dl.google.com/linux/chrome/deb stable InRelease [1,825 B]\nHit:2 https://repos.azul.com/zulu/deb stable InRelease\nGet:3 http://security.ubuntu.com/ubuntu jammy-security InRelease [110 kB]\nHit:4 http://archive.ubuntu.com/ubuntu jammy InRelease\nGet:5 https://dl.google.com/linux/chrome/deb stable/main amd64 Packages [1,069 B]\nGet:6 http://archive.ubuntu.com/ubuntu jammy-updates InRelease [119 kB]\nHit:7 http://archive.ubuntu.com/ubuntu jammy-backports InRelease\nGet:8 http://security.ubuntu.com/ubuntu jammy-security/universe amd64 Packages [1,035 kB]\nGet:9 http://archive.ubuntu.com/ubuntu jammy-updates/universe amd64 Packages [1,303 kB]\nGet:10 http://security.ubuntu.com/ubuntu jammy-security/multiverse amd64 Packages [44.0 kB]\nGet:11 http://security.ubuntu.com/ubuntu jammy-security/main amd64 Packages [1,280 kB]\nGet:12 http://security.ubuntu.com/ubuntu jammy-security/restricted amd64 Packages [1,512 kB]\nGet:13 http://archive.ubuntu.com/ubuntu jammy-updates/main amd64 Packages [1,550 kB]\nGet:14 http://archive.ubuntu.com/ubuntu jammy-updates/restricted amd64 Packages [1,538 kB]\nGet:15 http://archive.ubuntu.com/ubuntu jammy-updates/multiverse amd64 Packages [49.8 kB]\nFetched 8,543 kB in 2s (5,577 kB/s)\nReading package lists...\n"
     ]
    },
    {
     "output_type": "stream",
     "name": "stderr",
     "output_type": "stream",
     "text": [
      "W: https://dl.google.com/linux/chrome/deb/dists/stable/InRelease: Key is stored in legacy trusted.gpg keyring (/etc/apt/trusted.gpg), see the DEPRECATION section in apt-key(8) for details.\nW: https://repos.azul.com/zulu/deb/dists/stable/InRelease: Key is stored in legacy trusted.gpg keyring (/etc/apt/trusted.gpg), see the DEPRECATION section in apt-key(8) for details.\n"
     ]
    },
    {
     "output_type": "stream",
     "name": "stdout",
     "output_type": "stream",
     "text": [
      "Reading package lists...\nBuilding dependency tree...\nReading state information...\nThe following additional packages will be installed:\n  fonts-liberation libgbm1 libu2f-udev libwayland-server0 systemd-hwe-hwdb\n  udev\nThe following NEW packages will be installed:\n  fonts-liberation google-chrome-stable libgbm1 libu2f-udev libwayland-server0\n  systemd-hwe-hwdb udev\n0 upgraded, 7 newly installed, 0 to remove and 57 not upgraded.\nNeed to get 107 MB of archives.\nAfter this operation, 350 MB of additional disk space will be used.\nGet:1 https://dl.google.com/linux/chrome/deb stable/main amd64 google-chrome-stable amd64 120.0.6099.62-1 [105 MB]\nGet:2 http://archive.ubuntu.com/ubuntu jammy/main amd64 fonts-liberation all 1:1.07.4-11 [822 kB]\nGet:3 http://archive.ubuntu.com/ubuntu jammy-updates/main amd64 libwayland-server0 amd64 1.20.0-1ubuntu0.1 [34.3 kB]\nGet:4 http://archive.ubuntu.com/ubuntu jammy-updates/main amd64 libgbm1 amd64 23.0.4-0ubuntu1~22.04.1 [33.1 kB]\nGet:5 http://archive.ubuntu.com/ubuntu jammy-updates/main amd64 udev amd64 249.11-0ubuntu3.11 [1,557 kB]\nGet:6 http://archive.ubuntu.com/ubuntu jammy/main amd64 libu2f-udev all 1.1.10-3build2 [4,190 B]\nGet:7 http://archive.ubuntu.com/ubuntu jammy-updates/main amd64 systemd-hwe-hwdb all 249.11.3 [2,908 B]\n"
     ]
    },
    {
     "output_type": "stream",
     "name": "stderr",
     "output_type": "stream",
     "text": [
      "debconf: delaying package configuration, since apt-utils is not installed\n"
     ]
    },
    {
     "output_type": "stream",
     "name": "stdout",
     "output_type": "stream",
     "text": [
      "Fetched 107 MB in 1s (103 MB/s)\nSelecting previously unselected package fonts-liberation.\r\n(Reading database ... \r(Reading database ... 5%\r(Reading database ... 10%\r(Reading database ... 15%\r(Reading database ... 20%\r(Reading database ... 25%\r(Reading database ... 30%\r(Reading database ... 35%\r(Reading database ... 40%\r(Reading database ... 45%\r(Reading database ... 50%\r(Reading database ... 55%\r(Reading database ... 60%\r(Reading database ... 65%\r(Reading database ... 70%\r(Reading database ... 75%\r(Reading database ... 80%\r(Reading database ... 85%\r(Reading database ... 90%\r(Reading database ... 95%\r(Reading database ... 100%\r(Reading database ... 91167 files and directories currently installed.)\r\nPreparing to unpack .../0-fonts-liberation_1%3a1.07.4-11_all.deb ...\r\nUnpacking fonts-liberation (1:1.07.4-11) ...\r\nSelecting previously unselected package libwayland-server0:amd64.\r\nPreparing to unpack .../1-libwayland-server0_1.20.0-1ubuntu0.1_amd64.deb ...\r\nUnpacking libwayland-server0:amd64 (1.20.0-1ubuntu0.1) ...\r\nSelecting previously unselected package libgbm1:amd64.\r\nPreparing to unpack .../2-libgbm1_23.0.4-0ubuntu1~22.04.1_amd64.deb ...\r\nUnpacking libgbm1:amd64 (23.0.4-0ubuntu1~22.04.1) ...\r\nSelecting previously unselected package udev.\r\nPreparing to unpack .../3-udev_249.11-0ubuntu3.11_amd64.deb ...\r\nUnpacking udev (249.11-0ubuntu3.11) ...\r\nSelecting previously unselected package libu2f-udev.\r\nPreparing to unpack .../4-libu2f-udev_1.1.10-3build2_all.deb ...\r\nUnpacking libu2f-udev (1.1.10-3build2) ...\r\nSelecting previously unselected package google-chrome-stable.\r\nPreparing to unpack .../5-google-chrome-stable_120.0.6099.62-1_amd64.deb ...\r\nUnpacking google-chrome-stable (120.0.6099.62-1) ...\r\nSelecting previously unselected package systemd-hwe-hwdb.\r\nPreparing to unpack .../6-systemd-hwe-hwdb_249.11.3_all.deb ...\r\nUnpacking systemd-hwe-hwdb (249.11.3) ...\r\nSetting up libwayland-server0:amd64 (1.20.0-1ubuntu0.1) ...\r\nSetting up libgbm1:amd64 (23.0.4-0ubuntu1~22.04.1) ...\r\nSetting up udev (249.11-0ubuntu3.11) ...\r\ninvoke-rc.d: policy-rc.d denied execution of start.\r\nSetting up systemd-hwe-hwdb (249.11.3) ...\r\nSetting up fonts-liberation (1:1.07.4-11) ...\r\nSetting up libu2f-udev (1.1.10-3build2) ...\r\nSetting up google-chrome-stable (120.0.6099.62-1) ...\r\nupdate-alternatives: using /usr/bin/google-chrome-stable to provide /usr/bin/x-www-browser (x-www-browser) in auto mode\r\nupdate-alternatives: using /usr/bin/google-chrome-stable to provide /usr/bin/gnome-www-browser (gnome-www-browser) in auto mode\r\nupdate-alternatives: using /usr/bin/google-chrome-stable to provide /usr/bin/google-chrome (google-chrome) in auto mode\r\nProcessing triggers for man-db (2.10.2-1) ...\r\nProcessing triggers for mailcap (3.70+nmu1ubuntu1) ...\r\nProcessing triggers for fontconfig (2.13.1-4.2ubuntu5) ...\r\nProcessing triggers for libc-bin (2.35-0ubuntu3.4) ...\r\n"
     ]
    }
   ],
   "source": [
    "%sh\n",
    "sudo  curl  -sS  -o - https://dl-ssl.google.com/linux/linux_signing_key.pub | apt-key add\n",
    "sudo  echo  \"deb https://dl.google.com/linux/chrome/deb/ stable main\" >> /etc/apt/sources.list.d/google-chrome.list\n",
    "sudo apt-get -y update\n",
    "sudo apt-get -y install google-chrome-stable --fix-missing"
   ]
  },
  {
   "cell_type": "code",
   "execution_count": 0,
   "metadata": {
    "application/vnd.databricks.v1+cell": {
     "cellMetadata": {
      "byteLimit": 2048000,
      "rowLimit": 10000
     },
     "inputWidgets": {},
     "nuid": "e432f5f4-ee8b-4533-a315-df40a735cfca",
     "showTitle": false,
     "title": ""
    }
   },
   "outputs": [],
   "source": [
    "#############################################################################\n",
    "#############################################################################\n",
    "#### connect to web"
   ]
  },
  {
   "cell_type": "code",
   "execution_count": 0,
   "metadata": {
    "application/vnd.databricks.v1+cell": {
     "cellMetadata": {
      "byteLimit": 2048000,
      "rowLimit": 10000
     },
     "inputWidgets": {},
     "nuid": "9951441e-4001-4e57-8321-ab6debd683ac",
     "showTitle": false,
     "title": ""
    }
   },
   "outputs": [],
   "source": [
    "# connect to web, using path to 'chrom driver' it can be find from output from above command:\n",
    "#\n",
    "### command:\n",
    "# %sh\n",
    "#  unzip /tmp/chromedriver_linux64.zip -d /tmp/my_chromedriver/\n",
    "#\n",
    "#### output:\n",
    "#  inflating: /tmp/chromedriver118/chromedriver-linux64/chromedriver"
   ]
  },
  {
   "cell_type": "code",
   "execution_count": 0,
   "metadata": {
    "application/vnd.databricks.v1+cell": {
     "cellMetadata": {
      "byteLimit": 2048000,
      "rowLimit": 10000
     },
     "inputWidgets": {},
     "nuid": "0b19ed33-e848-4b69-9a9c-66337553c0c5",
     "showTitle": false,
     "title": ""
    }
   },
   "outputs": [],
   "source": [
    "options = Options()\n",
    "options.add_argument('--headless')\n",
    "options.add_argument(\"--no-sandbox\")\n",
    "options.add_argument(\"--disable-dev-shm-usage\")\n",
    "options.add_argument(\"--disable-gpu\")\n",
    "prefs = {'download.default_directory' : \"/tmp/ICIS_download/\"}\n",
    "options.add_experimental_option('prefs', prefs)"
   ]
  },
  {
   "cell_type": "code",
   "execution_count": 0,
   "metadata": {
    "application/vnd.databricks.v1+cell": {
     "cellMetadata": {
      "byteLimit": 2048000,
      "rowLimit": 10000
     },
     "inputWidgets": {},
     "nuid": "05b6f76b-f2f7-4989-b175-db5b481ae474",
     "showTitle": false,
     "title": ""
    }
   },
   "outputs": [],
   "source": [
    "driver = webdriver.Chrome(service=Service('/tmp/my_chromedriver/chromedriver-linux64/chromedriver'), options=options)"
   ]
  },
  {
   "cell_type": "code",
   "execution_count": 0,
   "metadata": {
    "application/vnd.databricks.v1+cell": {
     "cellMetadata": {
      "byteLimit": 2048000,
      "rowLimit": 10000
     },
     "inputWidgets": {},
     "nuid": "d2a97a3d-0c57-400d-a53c-334170e500a5",
     "showTitle": false,
     "title": ""
    }
   },
   "outputs": [],
   "source": [
    "#############################################################################\n",
    "#############################################################################\n",
    "#### login into web page"
   ]
  },
  {
   "cell_type": "code",
   "execution_count": 0,
   "metadata": {
    "application/vnd.databricks.v1+cell": {
     "cellMetadata": {},
     "inputWidgets": {},
     "nuid": "ce1e0e9f-0111-4137-b8c1-9a87f66adcda",
     "showTitle": false,
     "title": ""
    }
   },
   "outputs": [],
   "source": [
    "main_login_url = 'https://portal_url.com'\n",
    "\n",
    "portal_password = dbutils.secrets.get(scope = \"db_kv_scope\", key=\"portal_password\")\n",
    "portal_login = dbutils.secrets.get(scope = \"db_kv_scope\", key=\"portal_login\")\n",
    "\n",
    "#timeouts={'implicit':15000,\n",
    "#           'pageLoad':15000,\n",
    "#           'script':15000}"
   ]
  },
  {
   "cell_type": "code",
   "execution_count": 0,
   "metadata": {
    "application/vnd.databricks.v1+cell": {
     "cellMetadata": {},
     "inputWidgets": {},
     "nuid": "8c3d3c39-65ff-4367-9571-53368b9184d0",
     "showTitle": false,
     "title": ""
    }
   },
   "outputs": [],
   "source": [
    "# login\n",
    "driver.get(main_login_url)\n",
    "    \n",
    "u = driver.find_element(\"name\",'Username')\n",
    "u.send_keys(portal_login)\n",
    "p = driver.find_element(\"name\",'Password')\n",
    "p.send_keys(portal_password)\n",
    "#p.send_keys(Keys.RETURN)\n",
    "    \n",
    "driver.find_element(\"id\",\"login-button\").click()\n",
    "\n",
    "time.sleep(20)"
   ]
  }
 ],
 "metadata": {
  "application/vnd.databricks.v1+notebook": {
   "dashboards": [],
   "language": "python",
   "notebookMetadata": {
    "mostRecentlyExecutedCommandWithImplicitDF": {
     "commandId": 2945355143907771,
     "dataframes": [
      "_sqldf"
     ]
    },
    "pythonIndentUnit": 2
   },
   "notebookName": "selenium_install_chrome_driver_and_chrome_01",
   "widgets": {}
  }
 },
 "nbformat": 4,
 "nbformat_minor": 0
}
