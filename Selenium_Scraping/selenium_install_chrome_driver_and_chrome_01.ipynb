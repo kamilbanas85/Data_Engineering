{
 "cells": [
  {
   "cell_type": "code",
   "execution_count": 0,
   "metadata": {
    "application/vnd.databricks.v1+cell": {
     "cellMetadata": {
      "byteLimit": 2048000,
      "rowLimit": 10000
     },
     "inputWidgets": {},
     "nuid": "df5d77dc-8af4-48a6-8ec3-43afba881a22",
     "showTitle": false,
     "title": ""
    }
   },
   "outputs": [],
   "source": [
    "from selenium import webdriver \n",
    "from selenium.webdriver import Chrome \n",
    "from selenium.webdriver.chrome.service import Service \n",
    "from selenium.webdriver.common.by import By \n",
    "from webdriver_manager.chrome import ChromeDriverManager\n",
    "from selenium.webdriver.support.wait import WebDriverWait\n",
    "from selenium.webdriver.support import expected_conditions as EC\n",
    "from selenium.webdriver.chrome.options import Options\n",
    "from selenium.common.exceptions import ElementClickInterceptedException\n",
    "\n",
    "import os\n",
    "import pandas as pd\n",
    "\n",
    "import time"
   ]
  },
  {
   "cell_type": "code",
   "execution_count": 0,
   "metadata": {
    "application/vnd.databricks.v1+cell": {
     "cellMetadata": {},
     "inputWidgets": {},
     "nuid": "909b3480-9e4b-457c-943c-17b7d3272624",
     "showTitle": false,
     "title": ""
    }
   },
   "outputs": [],
   "source": [
    "#############################################################################\n",
    "#############################################################################\n",
    "#### extract, and install chrom driver and chrome last stale version"
   ]
  },
  {
   "cell_type": "code",
   "execution_count": 0,
   "metadata": {
    "application/vnd.databricks.v1+cell": {
     "cellMetadata": {},
     "inputWidgets": {},
     "nuid": "41eb85c7-c803-4a67-aebb-71d0eef113ba",
     "showTitle": false,
     "title": ""
    }
   },
   "outputs": [],
   "source": [
    "import json\n",
    "import requests\n",
    "\n",
    "url_chrom_for_testing_json_endpoint = 'https://googlechromelabs.github.io/chrome-for-testing/last-known-good-versions-with-downloads.json'\n",
    "\n",
    "result = requests.get(url_chrom_for_testing_json_endpoint)\n",
    "chrom_for_testing_data = result.json()"
   ]
  },
  {
   "cell_type": "code",
   "execution_count": 0,
   "metadata": {
    "application/vnd.databricks.v1+cell": {
     "cellMetadata": {
      "byteLimit": 2048000,
      "rowLimit": 10000
     },
     "inputWidgets": {},
     "nuid": "fc0da14d-a114-4383-b82e-8f469ea9918c",
     "showTitle": false,
     "title": ""
    }
   },
   "outputs": [
    {
     "name": "stdout",
     "output_type": "stream",
     "text": [
      "120.0.6099.62\n"
     ]
    }
   ],
   "source": [
    "### extract version nr, and \n",
    "current_stable_version = data['channels']['Stable']['version']\n",
    "\n",
    "chrome_driver_url = pd.json_normalize(data['channels']['Stable']['downloads']['chromedriver']).query('platform == \"linux64\"')['url'].squeeze()\n",
    "chrome_url = pd.json_normalize(data['channels']['Stable']['downloads']['chrome']).query('platform == \"linux64\"')['url'].squeeze()\n",
    "\n",
    "print(current_stable_version)"
   ]
  },
  {
   "cell_type": "code",
   "execution_count": 0,
   "metadata": {
    "application/vnd.databricks.v1+cell": {
     "cellMetadata": {},
     "inputWidgets": {},
     "nuid": "9f0986bc-e88f-4ba2-b9d6-89d4c88a2195",
     "showTitle": false,
     "title": ""
    }
   },
   "outputs": [],
   "source": [
    "# set up variable to use later in %sh commands\n",
    "os.environ['chrome_driver_url'] = chrome_driver_url\n",
    "os.environ['chrome_url'] = chrome_url"
   ]
  },
  {
   "cell_type": "code",
   "execution_count": 0,
   "metadata": {
    "application/vnd.databricks.v1+cell": {
     "cellMetadata": {},
     "inputWidgets": {},
     "nuid": "3ddd214c-2682-422e-9bd7-eafab0337f3f",
     "showTitle": false,
     "title": ""
    }
   },
   "outputs": [],
   "source": [
    "#############################################################################\n",
    "### download 'chromedriver_linux64' for proper chrom version  (last stable) for directory ''\n",
    "### than Unzip to prepared folder "
   ]
  },
  {
   "cell_type": "code",
   "execution_count": 0,
   "metadata": {
    "application/vnd.databricks.v1+cell": {
     "cellMetadata": {
      "byteLimit": 2048000,
      "rowLimit": 10000
     },
     "inputWidgets": {},
     "nuid": "0b8a3ae3-2add-4a99-b7bc-0eef2edc5302",
     "showTitle": false,
     "title": ""
    }
   },
   "outputs": [],
   "source": [
    "# remove if exist /tmp/chromedriver_linux64.zip and all files in a direcotry '/tmp/my_chromedriver/ if exist"
   ]
  },
  {
   "cell_type": "code",
   "execution_count": 0,
   "metadata": {
    "application/vnd.databricks.v1+cell": {
     "cellMetadata": {
      "byteLimit": 2048000,
      "rowLimit": 10000
     },
     "inputWidgets": {},
     "nuid": "0bdc3871-046e-4d49-8436-f6dd9877fb22",
     "showTitle": false,
     "title": ""
    }
   },
   "outputs": [
    {
     "name": "stderr",
     "output_type": "stream",
     "text": [
      "rm: cannot remove '/tmp/my_chromedriver/': No such file or directory\n"
     ]
    }
   ],
   "source": [
    "%sh\n",
    "rm /tmp/chromedriver_linux64.zip\n",
    "rm -r /tmp/my_chromedriver/"
   ]
  },
  {
   "cell_type": "code",
   "execution_count": 0,
   "metadata": {
    "application/vnd.databricks.v1+cell": {
     "cellMetadata": {
      "byteLimit": 2048000,
      "rowLimit": 10000
     },
     "inputWidgets": {},
     "nuid": "58cc6ff7-646e-4bd5-998d-1d13db4e6cc8",
     "showTitle": false,
     "title": ""
    }
   },
   "outputs": [],
   "source": [
    "## Using shell command download and save the chromedriver in /tmp/ as  /tmp/chromedriver_linux64.zip"
   ]
  },
  {
   "cell_type": "code",
   "execution_count": 0,
   "metadata": {
    "application/vnd.databricks.v1+cell": {
     "cellMetadata": {
      "byteLimit": 2048000,
      "rowLimit": 10000
     },
     "inputWidgets": {},
     "nuid": "f4be077d-f878-43c4-bd75-9303d48e2473",
     "showTitle": false,
     "title": ""
    }
   },
   "outputs": [
    {
     "name": "stderr",
     "output_type": "stream",
     "text": [
      "WARNING: timestamping does nothing in combination with -O. See the manual\n",
      "for details.\n",
      "\n",
      "--2023-12-06 13:49:35--  https://edgedl.me.gvt1.com/edgedl/chrome/chrome-for-testing/120.0.6099.62/linux64/chromedriver-linux64.zip\n",
      "Resolving edgedl.me.gvt1.com (edgedl.me.gvt1.com)... 34.104.35.123, 2600:1900:4110:86f::\n",
      "Connecting to edgedl.me.gvt1.com (edgedl.me.gvt1.com)|34.104.35.123|:443... connected.\n",
      "HTTP request sent, awaiting response... 200 OK\n",
      "Length: 8574825 (8.2M) [application/octet-stream]\n",
      "Saving to: ‘/tmp/chromedriver_linux64.zip’\n",
      "\n",
      "     0K .......... .......... .......... .......... ..........  0% 14.8M 1s\n",
      "    50K .......... .......... .......... .......... ..........  1% 34.5M 0s\n",
      "   100K .......... .......... .......... .......... ..........  1% 57.8M 0s\n",
      "   150K .......... .......... .......... .......... ..........  2%  102M 0s\n",
      "   200K .......... .......... .......... .......... ..........  2% 51.0M 0s\n",
      "   250K .......... .......... .......... .......... ..........  3%  120M 0s\n",
      "   300K .......... .......... .......... .......... ..........  4% 95.9M 0s\n",
      "   350K .......... .......... .......... .......... ..........  4%  188M 0s\n",
      "   400K .......... .......... .......... .......... ..........  5%  238M 0s\n",
      "   450K .......... .......... .......... .......... ..........  5%  103M 0s\n",
      "   500K .......... .......... .......... .......... ..........  6%  203M 0s\n",
      "   550K .......... .......... .......... .......... ..........  7%  135M 0s\n",
      "   600K .......... .......... .......... .......... ..........  7%  225M 0s\n",
      "   650K .......... .......... .......... .......... ..........  8%  232M 0s\n",
      "   700K .......... .......... .......... .......... ..........  8%  191M 0s\n",
      "   750K .......... .......... .......... .......... ..........  9%  209M 0s\n",
      "   800K .......... .......... .......... .......... .......... 10%  209M 0s\n",
      "   850K .......... .......... .......... .......... .......... 10%  260M 0s\n",
      "   900K .......... .......... .......... .......... .......... 11%  163M 0s\n",
      "   950K .......... .......... .......... .......... .......... 11%  160M 0s\n",
      "  1000K .......... .......... .......... .......... .......... 12%  208M 0s\n",
      "  1050K .......... .......... .......... .......... .......... 13%  191M 0s\n",
      "  1100K .......... .......... .......... .......... .......... 13%  200M 0s\n",
      "  1150K .......... .......... .......... .......... .......... 14%  181M 0s\n",
      "  1200K .......... .......... .......... .......... .......... 14%  213M 0s\n",
      "  1250K .......... .......... .......... .......... .......... 15%  309M 0s\n",
      "  1300K .......... .......... .......... .......... .......... 16%  314M 0s\n",
      "  1350K .......... .......... .......... .......... .......... 16%  281M 0s\n",
      "  1400K .......... .......... .......... .......... .......... 17%  315M 0s\n",
      "  1450K .......... .......... .......... .......... .......... 17%  310M 0s\n",
      "  1500K .......... .......... .......... .......... .......... 18%  314M 0s\n",
      "  1550K .......... .......... .......... .......... .......... 19%  261M 0s\n",
      "  1600K .......... .......... .......... .......... .......... 19%  312M 0s\n",
      "  1650K .......... .......... .......... .......... .......... 20%  316M 0s\n",
      "  1700K .......... .......... .......... .......... .......... 20%  313M 0s\n",
      "  1750K .......... .......... .......... .......... .......... 21%  277M 0s\n",
      "  1800K .......... .......... .......... .......... .......... 22%  306M 0s\n",
      "  1850K .......... .......... .......... .......... .......... 22%  313M 0s\n",
      "  1900K .......... .......... .......... .......... .......... 23%  313M 0s\n",
      "  1950K .......... .......... .......... .......... .......... 23%  244M 0s\n",
      "  2000K .......... .......... .......... .......... .......... 24% 6.24M 0s\n",
      "  2050K .......... .......... .......... .......... .......... 25%  158M 0s\n",
      "  2100K .......... .......... .......... .......... .......... 25%  251M 0s\n",
      "  2150K .......... .......... .......... .......... .......... 26%  159M 0s\n",
      "  2200K .......... .......... .......... .......... .......... 26%  203M 0s\n",
      "  2250K .......... .......... .......... .......... .......... 27%  201M 0s\n",
      "  2300K .......... .......... .......... .......... .......... 28%  160M 0s\n",
      "  2350K .......... .......... .......... .......... .......... 28%  139M 0s\n",
      "  2400K .......... .......... .......... .......... .......... 29%  286M 0s\n",
      "  2450K .......... .......... .......... .......... .......... 29%  162M 0s\n",
      "  2500K .......... .......... .......... .......... .......... 30%  204M 0s\n",
      "  2550K .......... .......... .......... .......... .......... 31%  166M 0s\n",
      "  2600K .......... .......... .......... .......... .......... 31%  211M 0s\n",
      "  2650K .......... .......... .......... .......... .......... 32%  148M 0s\n",
      "  2700K .......... .......... .......... .......... .......... 32%  255M 0s\n",
      "  2750K .......... .......... .......... .......... .......... 33%  264M 0s\n",
      "  2800K .......... .......... .......... .......... .......... 34%  308M 0s\n",
      "  2850K .......... .......... .......... .......... .......... 34%  275M 0s\n",
      "  2900K .......... .......... .......... .......... .......... 35%  319M 0s\n",
      "  2950K .......... .......... .......... .......... .......... 35%  281M 0s\n",
      "  3000K .......... .......... .......... .......... .......... 36%  318M 0s\n",
      "  3050K .......... .......... .......... .......... .......... 37%  314M 0s\n",
      "  3100K .......... .......... .......... .......... .......... 37%  317M 0s\n",
      "  3150K .......... .......... .......... .......... .......... 38%  261M 0s\n",
      "  3200K .......... .......... .......... .......... .......... 38%  318M 0s\n",
      "  3250K .......... .......... .......... .......... .......... 39%  317M 0s\n",
      "  3300K .......... .......... .......... .......... .......... 40%  312M 0s\n",
      "  3350K .......... .......... .......... .......... .......... 40%  280M 0s\n",
      "  3400K .......... .......... .......... .......... .......... 41%  316M 0s\n",
      "  3450K .......... .......... .......... .......... .......... 41%  313M 0s\n",
      "  3500K .......... .......... .......... .......... .......... 42%  317M 0s\n",
      "  3550K .......... .......... .......... .......... .......... 42%  262M 0s\n",
      "  3600K .......... .......... .......... .......... .......... 43%  315M 0s\n",
      "  3650K .......... .......... .......... .......... .......... 44%  316M 0s\n",
      "  3700K .......... .......... .......... .......... .......... 44%  315M 0s\n",
      "  3750K .......... .......... .......... .......... .......... 45%  284M 0s\n",
      "  3800K .......... .......... .......... .......... .......... 45%  317M 0s\n",
      "  3850K .......... .......... .......... .......... .......... 46%  315M 0s\n",
      "  3900K .......... .......... .......... .......... .......... 47%  318M 0s\n",
      "  3950K .......... .......... .......... .......... .......... 47%  266M 0s\n",
      "  4000K .......... .......... .......... .......... .......... 48%  315M 0s\n",
      "  4050K .......... .......... .......... .......... .......... 48% 1.59M 0s\n",
      "  4100K .......... .......... .......... .......... .......... 49%  121M 0s\n",
      "  4150K .......... .......... .......... .......... .......... 50%  253M 0s\n",
      "  4200K .......... .......... .......... .......... .......... 50%  289M 0s\n",
      "  4250K .......... .......... .......... .......... .......... 51%  287M 0s\n",
      "  4300K .......... .......... .......... .......... .......... 51%  288M 0s\n",
      "  4350K .......... .......... .......... .......... .......... 52%  241M 0s\n",
      "  4400K .......... .......... .......... .......... .......... 53%  302M 0s\n",
      "  4450K .......... .......... .......... .......... .......... 53%  272M 0s\n",
      "  4500K .......... .......... .......... .......... .......... 54%  296M 0s\n",
      "  4550K .......... .......... .......... .......... .......... 54%  263M 0s\n",
      "  4600K .......... .......... .......... .......... .......... 55%  295M 0s\n",
      "  4650K .......... .......... .......... .......... .......... 56%  290M 0s\n",
      "  4700K .......... .......... .......... .......... .......... 56%  299M 0s\n",
      "  4750K .......... .......... .......... .......... .......... 57%  162M 0s\n",
      "  4800K .......... .......... .......... .......... .......... 57%  284M 0s\n",
      "  4850K .......... .......... .......... .......... .......... 58%  290M 0s\n",
      "  4900K .......... .......... .......... .......... .......... 59%  295M 0s\n",
      "  4950K .......... .......... .......... .......... .......... 59%  276M 0s\n",
      "  5000K .......... .......... .......... .......... .......... 60%  308M 0s\n",
      "  5050K .......... .......... .......... .......... .......... 60%  181M 0s\n",
      "  5100K .......... .......... .......... .......... .......... 61%  300M 0s\n",
      "  5150K .......... .......... .......... .......... .......... 62%  208M 0s\n",
      "  5200K .......... .......... .......... .......... .......... 62%  305M 0s\n",
      "  5250K .......... .......... .......... .......... .......... 63%  314M 0s\n",
      "  5300K .......... .......... .......... .......... .......... 63%  310M 0s\n",
      "  5350K .......... .......... .......... .......... .......... 64%  119M 0s\n",
      "  5400K .......... .......... .......... .......... .......... 65%  278M 0s\n",
      "  5450K .......... .......... .......... .......... .......... 65%  274M 0s\n",
      "  5500K .......... .......... .......... .......... .......... 66%  125M 0s\n",
      "  5550K .......... .......... .......... .......... .......... 66%  238M 0s\n",
      "  5600K .......... .......... .......... .......... .......... 67%  142M 0s\n",
      "  5650K .......... .......... .......... .......... .......... 68%  298M 0s\n",
      "  5700K .......... .......... .......... .......... .......... 68%  282M 0s\n",
      "  5750K .......... .......... .......... .......... .......... 69%  221M 0s\n",
      "  5800K .......... .......... .......... .......... .......... 69%  303M 0s\n",
      "  5850K .......... .......... .......... .......... .......... 70%  291M 0s\n",
      "  5900K .......... .......... .......... .......... .......... 71%  313M 0s\n",
      "  5950K .......... .......... .......... .......... .......... 71%  242M 0s\n",
      "  6000K .......... .......... .......... .......... .......... 72%  300M 0s\n",
      "  6050K .......... .......... .......... .......... .......... 72%  291M 0s\n",
      "  6100K .......... .......... .......... .......... .......... 73%  295M 0s\n",
      "  6150K .......... .......... .......... .......... .......... 74%  260M 0s\n",
      "  6200K .......... .......... .......... .......... .......... 74%  302M 0s\n",
      "  6250K .......... .......... .......... .......... .......... 75%  310M 0s\n",
      "  6300K .......... .......... .......... .......... .......... 75%  312M 0s\n",
      "  6350K .......... .......... .......... .......... .......... 76%  217M 0s\n",
      "  6400K .......... .......... .......... .......... .......... 77%  265M 0s\n",
      "  6450K .......... .......... .......... .......... .......... 77%  309M 0s\n",
      "  6500K .......... .......... .......... .......... .......... 78%  294M 0s\n",
      "  6550K .......... .......... .......... .......... .......... 78%  279M 0s\n",
      "  6600K .......... .......... .......... .......... .......... 79%  313M 0s\n",
      "  6650K .......... .......... .......... .......... .......... 80%  313M 0s\n",
      "  6700K .......... .......... .......... .......... .......... 80%  317M 0s\n",
      "  6750K .......... .......... .......... .......... .......... 81%  242M 0s\n",
      "  6800K .......... .......... .......... .......... .......... 81%  312M 0s\n",
      "  6850K .......... .......... .......... .......... .......... 82%  313M 0s\n",
      "  6900K .......... .......... .......... .......... .......... 82%  314M 0s\n",
      "  6950K .......... .......... .......... .......... .......... 83%  282M 0s\n",
      "  7000K .......... .......... .......... .......... .......... 84%  312M 0s\n",
      "  7050K .......... .......... .......... .......... .......... 84%  314M 0s\n",
      "  7100K .......... .......... .......... .......... .......... 85%  313M 0s\n",
      "  7150K .......... .......... .......... .......... .......... 85%  262M 0s\n",
      "  7200K .......... .......... .......... .......... .......... 86%  310M 0s\n",
      "  7250K .......... .......... .......... .......... .......... 87%  309M 0s\n",
      "  7300K .......... .......... .......... .......... .......... 87%  317M 0s\n",
      "  7350K .......... .......... .......... .......... .......... 88% 16.4M 0s\n",
      "  7400K .......... .......... .......... .......... .......... 88%  279M 0s\n",
      "  7450K .......... .......... .......... .......... .......... 89%  303M 0s\n",
      "  7500K .......... .......... .......... .......... .......... 90%  277M 0s\n",
      "  7550K .......... .......... .......... .......... .......... 90%  253M 0s\n",
      "  7600K .......... .......... .......... .......... .......... 91%  305M 0s\n",
      "  7650K .......... .......... .......... .......... .......... 91%  296M 0s\n",
      "  7700K .......... .......... .......... .......... .......... 92%  302M 0s\n",
      "  7750K .......... .......... .......... .......... .......... 93%  276M 0s\n",
      "  7800K .......... .......... .......... .......... .......... 93%  305M 0s\n",
      "  7850K .......... .......... .......... .......... .......... 94%  303M 0s\n",
      "  7900K .......... .......... .......... .......... .......... 94%  312M 0s\n",
      "  7950K .......... .......... .......... .......... .......... 95%  260M 0s\n",
      "  8000K .......... .......... .......... .......... .......... 96%  309M 0s\n",
      "  8050K .......... .......... .......... .......... .......... 96%  277M 0s\n",
      "  8100K .......... .......... .......... .......... .......... 97%  305M 0s\n",
      "  8150K .......... .......... .......... .......... .......... 97% 4.61M 0s\n",
      "  8200K .......... .......... .......... .......... .......... 98%  289M 0s\n",
      "  8250K .......... .......... .......... .......... .......... 99%  412M 0s\n",
      "  8300K .......... .......... .......... .......... .......... 99%  275M 0s\n",
      "  8350K .......... .......... ...                             100%  353M=0.09s\n",
      "\n",
      "2023-12-06 13:49:35 (90.5 MB/s) - ‘/tmp/chromedriver_linux64.zip’ saved [8574825/8574825]\n",
      "\n"
     ]
    }
   ],
   "source": [
    "%sh\n",
    "wget  -N $chrome_driver_url -O /tmp/chromedriver_linux64.zip"
   ]
  },
  {
   "cell_type": "code",
   "execution_count": 0,
   "metadata": {
    "application/vnd.databricks.v1+cell": {
     "cellMetadata": {
      "byteLimit": 2048000,
      "rowLimit": 10000
     },
     "inputWidgets": {},
     "nuid": "e3893d61-6ccd-4f03-8cb3-abb211456023",
     "showTitle": false,
     "title": ""
    }
   },
   "outputs": [],
   "source": [
    "## Unzip the file from   /tmp/   into folder     /tmp/my_chromedriver/"
   ]
  },
  {
   "cell_type": "code",
   "execution_count": 0,
   "metadata": {
    "application/vnd.databricks.v1+cell": {
     "cellMetadata": {
      "byteLimit": 2048000,
      "rowLimit": 10000
     },
     "inputWidgets": {},
     "nuid": "cabaff4a-48a1-4434-9a21-2627442d94b2",
     "showTitle": false,
     "title": ""
    }
   },
   "outputs": [
    {
     "name": "stdout",
     "output_type": "stream",
     "text": [
      "Archive:  /tmp/chromedriver_linux64.zip\n",
      "  inflating: /tmp/my_chromedriver/chromedriver-linux64/LICENSE.chromedriver  \n",
      "  inflating: /tmp/my_chromedriver/chromedriver-linux64/chromedriver  \n"
     ]
    }
   ],
   "source": [
    "%sh\n",
    "unzip /tmp/chromedriver_linux64.zip -d /tmp/my_chromedriver/"
   ]
  },
  {
   "cell_type": "code",
   "execution_count": 0,
   "metadata": {
    "application/vnd.databricks.v1+cell": {
     "cellMetadata": {
      "byteLimit": 2048000,
      "rowLimit": 10000
     },
     "inputWidgets": {},
     "nuid": "6f9d7a77-8e00-4d49-9f1a-7ed7a0b0f9f7",
     "showTitle": false,
     "title": ""
    }
   },
   "outputs": [],
   "source": [
    "##  download 'chrom' last stable version"
   ]
  },
  {
   "cell_type": "code",
   "execution_count": 0,
   "metadata": {
    "application/vnd.databricks.v1+cell": {
     "cellMetadata": {
      "byteLimit": 2048000,
      "rowLimit": 10000
     },
     "inputWidgets": {},
     "nuid": "703a4355-5afb-4325-9d2d-179d1fe32a53",
     "showTitle": false,
     "title": ""
    }
   },
   "outputs": [
    {
     "name": "stderr",
     "output_type": "stream",
     "text": [
      "Warning: apt-key is deprecated. Manage keyring files in trusted.gpg.d instead (see apt-key(8)).\n"
     ]
    },
    {
     "name": "stdout",
     "output_type": "stream",
     "text": [
      "OK\n",
      "Get:1 https://dl.google.com/linux/chrome/deb stable InRelease [1,825 B]\n",
      "Hit:2 https://repos.azul.com/zulu/deb stable InRelease\n",
      "Hit:3 http://archive.ubuntu.com/ubuntu jammy InRelease\n",
      "Hit:4 http://security.ubuntu.com/ubuntu jammy-security InRelease\n",
      "Get:5 https://dl.google.com/linux/chrome/deb stable/main amd64 Packages [1,069 B]\n",
      "Hit:6 http://archive.ubuntu.com/ubuntu jammy-updates InRelease\n",
      "Hit:7 http://archive.ubuntu.com/ubuntu jammy-backports InRelease\n",
      "Fetched 2,894 B in 1s (4,286 B/s)\n",
      "Reading package lists...\n"
     ]
    },
    {
     "name": "stderr",
     "output_type": "stream",
     "text": [
      "W: https://dl.google.com/linux/chrome/deb/dists/stable/InRelease: Key is stored in legacy trusted.gpg keyring (/etc/apt/trusted.gpg), see the DEPRECATION section in apt-key(8) for details.\n",
      "W: https://repos.azul.com/zulu/deb/dists/stable/InRelease: Key is stored in legacy trusted.gpg keyring (/etc/apt/trusted.gpg), see the DEPRECATION section in apt-key(8) for details.\n"
     ]
    },
    {
     "name": "stdout",
     "output_type": "stream",
     "text": [
      "Reading package lists...\n",
      "Building dependency tree...\n",
      "Reading state information...\n",
      "The following additional packages will be installed:\n",
      "  fonts-liberation libgbm1 libu2f-udev libwayland-server0 systemd-hwe-hwdb\n",
      "  udev\n",
      "The following NEW packages will be installed:\n",
      "  fonts-liberation google-chrome-stable libgbm1 libu2f-udev libwayland-server0\n",
      "  systemd-hwe-hwdb udev\n",
      "0 upgraded, 7 newly installed, 0 to remove and 17 not upgraded.\n",
      "Need to get 107 MB of archives.\n",
      "After this operation, 350 MB of additional disk space will be used.\n",
      "Get:1 https://dl.google.com/linux/chrome/deb stable/main amd64 google-chrome-stable amd64 120.0.6099.62-1 [105 MB]\n",
      "Get:2 http://archive.ubuntu.com/ubuntu jammy/main amd64 fonts-liberation all 1:1.07.4-11 [822 kB]\n",
      "Get:3 http://archive.ubuntu.com/ubuntu jammy-updates/main amd64 libwayland-server0 amd64 1.20.0-1ubuntu0.1 [34.3 kB]\n",
      "Get:4 http://archive.ubuntu.com/ubuntu jammy-updates/main amd64 libgbm1 amd64 23.0.4-0ubuntu1~22.04.1 [33.1 kB]\n",
      "Get:5 http://archive.ubuntu.com/ubuntu jammy-updates/main amd64 udev amd64 249.11-0ubuntu3.11 [1,557 kB]\n",
      "Get:6 http://archive.ubuntu.com/ubuntu jammy/main amd64 libu2f-udev all 1.1.10-3build2 [4,190 B]\n",
      "Get:7 http://archive.ubuntu.com/ubuntu jammy-updates/main amd64 systemd-hwe-hwdb all 249.11.3 [2,908 B]\n"
     ]
    },
    {
     "name": "stderr",
     "output_type": "stream",
     "text": [
      "debconf: delaying package configuration, since apt-utils is not installed\n"
     ]
    },
    {
     "name": "stdout",
     "output_type": "stream",
     "text": [
      "Fetched 107 MB in 1s (104 MB/s)\n",
      "Selecting previously unselected package fonts-liberation.\r\n",
      "(Reading database ... 91167 files and directories currently installed.)\r\n",
      "Preparing to unpack .../0-fonts-liberation_1%3a1.07.4-11_all.deb ...\r\n",
      "Unpacking fonts-liberation (1:1.07.4-11) ...\r\n",
      "Selecting previously unselected package libwayland-server0:amd64.\r\n",
      "Preparing to unpack .../1-libwayland-server0_1.20.0-1ubuntu0.1_amd64.deb ...\r\n",
      "Unpacking libwayland-server0:amd64 (1.20.0-1ubuntu0.1) ...\r\n",
      "Selecting previously unselected package libgbm1:amd64.\r\n",
      "Preparing to unpack .../2-libgbm1_23.0.4-0ubuntu1~22.04.1_amd64.deb ...\r\n",
      "Unpacking libgbm1:amd64 (23.0.4-0ubuntu1~22.04.1) ...\r\n",
      "Selecting previously unselected package udev.\r\n",
      "Preparing to unpack .../3-udev_249.11-0ubuntu3.11_amd64.deb ...\r\n",
      "Unpacking udev (249.11-0ubuntu3.11) ...\r\n",
      "Selecting previously unselected package libu2f-udev.\r\n",
      "Preparing to unpack .../4-libu2f-udev_1.1.10-3build2_all.deb ...\r\n",
      "Unpacking libu2f-udev (1.1.10-3build2) ...\r\n",
      "Selecting previously unselected package google-chrome-stable.\r\n",
      "Preparing to unpack .../5-google-chrome-stable_120.0.6099.62-1_amd64.deb ...\r\n",
      "Unpacking google-chrome-stable (120.0.6099.62-1) ...\r\n",
      "Selecting previously unselected package systemd-hwe-hwdb.\r\n",
      "Preparing to unpack .../6-systemd-hwe-hwdb_249.11.3_all.deb ...\r\n",
      "Unpacking systemd-hwe-hwdb (249.11.3) ...\r\n",
      "Setting up libwayland-server0:amd64 (1.20.0-1ubuntu0.1) ...\r\n",
      "Setting up libgbm1:amd64 (23.0.4-0ubuntu1~22.04.1) ...\r\n",
      "Setting up udev (249.11-0ubuntu3.11) ...\r\n",
      "invoke-rc.d: policy-rc.d denied execution of start.\r\n",
      "Setting up systemd-hwe-hwdb (249.11.3) ...\r\n",
      "Setting up fonts-liberation (1:1.07.4-11) ...\r\n",
      "Setting up libu2f-udev (1.1.10-3build2) ...\r\n",
      "Setting up google-chrome-stable (120.0.6099.62-1) ...\r\n",
      "update-alternatives: using /usr/bin/google-chrome-stable to provide /usr/bin/x-www-browser (x-www-browser) in auto mode\r\n",
      "update-alternatives: using /usr/bin/google-chrome-stable to provide /usr/bin/gnome-www-browser (gnome-www-browser) in auto mode\r\n",
      "update-alternatives: using /usr/bin/google-chrome-stable to provide /usr/bin/google-chrome (google-chrome) in auto mode\r\n",
      "Processing triggers for man-db (2.10.2-1) ...\r\n",
      "Processing triggers for mailcap (3.70+nmu1ubuntu1) ...\r\n",
      "Processing triggers for fontconfig (2.13.1-4.2ubuntu5) ...\r\n",
      "Processing triggers for libc-bin (2.35-0ubuntu3.4) ...\r\n"
     ]
    }
   ],
   "source": [
    "%sh\n",
    "sudo  curl  -sS  -o - https://dl-ssl.google.com/linux/linux_signing_key.pub | apt-key add\n",
    "sudo  echo  \"deb https://dl.google.com/linux/chrome/deb/ stable main\" >> /etc/apt/sources.list.d/google-chrome.list\n",
    "sudo apt-get -y update\n",
    "sudo apt-get -y install google-chrome-stable"
   ]
  },
  {
   "cell_type": "code",
   "execution_count": 0,
   "metadata": {
    "application/vnd.databricks.v1+cell": {
     "cellMetadata": {
      "byteLimit": 2048000,
      "rowLimit": 10000
     },
     "inputWidgets": {},
     "nuid": "9951441e-4001-4e57-8321-ab6debd683ac",
     "showTitle": false,
     "title": ""
    }
   },
   "outputs": [],
   "source": [
    "# connect to web, using path to 'chrom driver' it can be find from output from above command:\n",
    "#\n",
    "### command:\n",
    "# %sh\n",
    "#  unzip /tmp/chromedriver_linux64.zip -d /tmp/my_chromedriver/\n",
    "#\n",
    "#### output:\n",
    "#  inflating: /tmp/chromedriver118/chromedriver-linux64/chromedriver"
   ]
  },
  {
   "cell_type": "code",
   "execution_count": 0,
   "metadata": {
    "application/vnd.databricks.v1+cell": {
     "cellMetadata": {
      "byteLimit": 2048000,
      "rowLimit": 10000
     },
     "inputWidgets": {},
     "nuid": "0b19ed33-e848-4b69-9a9c-66337553c0c5",
     "showTitle": false,
     "title": ""
    }
   },
   "outputs": [],
   "source": [
    "options = Options()\n",
    "options.add_argument('--headless')\n",
    "options.add_argument(\"--no-sandbox\")\n",
    "options.add_argument(\"--disable-dev-shm-usage\")\n",
    "options.add_argument(\"--disable-gpu\")\n",
    "prefs = {'download.default_directory' : \"/tmp/ICIS_download/\"}\n",
    "options.add_experimental_option('prefs', prefs)"
   ]
  },
  {
   "cell_type": "code",
   "execution_count": 0,
   "metadata": {
    "application/vnd.databricks.v1+cell": {
     "cellMetadata": {
      "byteLimit": 2048000,
      "rowLimit": 10000
     },
     "inputWidgets": {},
     "nuid": "05b6f76b-f2f7-4989-b175-db5b481ae474",
     "showTitle": false,
     "title": ""
    }
   },
   "outputs": [],
   "source": [
    "driver = webdriver.Chrome(service=Service('/tmp/my_chromedriver/chromedriver-linux64/chromedriver'), options=options)"
   ]
  },
  {
   "cell_type": "code",
   "execution_count": 0,
   "metadata": {
    "application/vnd.databricks.v1+cell": {
     "cellMetadata": {},
     "inputWidgets": {},
     "nuid": "9ba52202-1ded-4860-b7d5-1179f06191c6",
     "showTitle": false,
     "title": ""
    }
   },
   "outputs": [],
   "source": [
    "#####################################################\n",
    "##### delate data insie if exist and if folder doesn't exist create folder to download data"
   ]
  },
  {
   "cell_type": "code",
   "execution_count": 0,
   "metadata": {
    "application/vnd.databricks.v1+cell": {
     "cellMetadata": {
      "byteLimit": 2048000,
      "rowLimit": 10000
     },
     "inputWidgets": {},
     "nuid": "9dade6c8-a977-4e7d-b65b-1dff851abf28",
     "showTitle": false,
     "title": ""
    }
   },
   "outputs": [],
   "source": [
    "main_login_url = 'https://portal_url.com'\n",
    "\n",
    "portal_password = dbutils.secrets.get(scope = \"db_kv_scope\", key=\"portal_password\")\n",
    "portal_login = dbutils.secrets.get(scope = \"db_kv_scope\", key=\"portal_login\")\n",
    "\n",
    "#timeouts={'implicit':15000,\n",
    "#           'pageLoad':15000,\n",
    "#           'script':15000}"
   ]
  },
  {
   "cell_type": "code",
   "execution_count": 0,
   "metadata": {
    "application/vnd.databricks.v1+cell": {
     "cellMetadata": {},
     "inputWidgets": {},
     "nuid": "32426aa0-5b77-4ddd-9d89-ab570a9e476b",
     "showTitle": false,
     "title": ""
    }
   },
   "outputs": [],
   "source": [
    "# login\n",
    "driver.get(main_login_url)\n",
    "    \n",
    "u = driver.find_element(\"name\",'Username')\n",
    "u.send_keys(portal_login)\n",
    "p = driver.find_element(\"name\",'Password')\n",
    "p.send_keys(portal_password)\n",
    "#p.send_keys(Keys.RETURN)\n",
    "    \n",
    "driver.find_element(\"id\",\"login-button\").click()\n",
    "\n",
    "time.sleep(20)"
   ]
  }
 ],
 "metadata": {
  "application/vnd.databricks.v1+notebook": {
   "dashboards": [],
   "language": "python",
   "notebookMetadata": {
    "mostRecentlyExecutedCommandWithImplicitDF": {
     "commandId": 408158041819417,
     "dataframes": [
      "_sqldf"
     ]
    },
    "pythonIndentUnit": 2
   },
   "notebookName": "selenium_install_chrome_driver_and_chrome_01",
   "widgets": {}
  },
  "kernelspec": {
   "display_name": "Python 3 (ipykernel)",
   "language": "python",
   "name": "python3"
  },
  "language_info": {
   "codemirror_mode": {
    "name": "ipython",
    "version": 3
   },
   "file_extension": ".py",
   "mimetype": "text/x-python",
   "name": "python",
   "nbconvert_exporter": "python",
   "pygments_lexer": "ipython3",
   "version": "3.11.4"
  }
 },
 "nbformat": 4,
 "nbformat_minor": 1
}
